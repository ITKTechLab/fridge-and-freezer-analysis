{
 "cells": [
  {
   "cell_type": "code",
   "execution_count": null,
   "metadata": {},
   "outputs": [],
   "source": [
    "import pandas as pd \n",
    "import matplotlib.pyplot as plt\n",
    "import plotly.graph_objects as go"
   ]
  },
  {
   "cell_type": "code",
   "execution_count": null,
   "metadata": {},
   "outputs": [],
   "source": [
    "data = pd.read_parquet(r\"fridge_data_cleaned.parquet\")\n",
    "#data = pd.read_csv(r\"D:\\Python\\Fridge_e_cons\\fridge_data_cleaned.csv\")\n",
    "\n",
    "print(data.head())"
   ]
  },
  {
   "cell_type": "code",
   "execution_count": null,
   "metadata": {},
   "outputs": [],
   "source": [
    "## Changes made for appliances names which were not correctly extracted because of upper/lower case and spaces\n",
    "\n",
    "\"\"\" \n",
    "data['name'] = data['name'].str.strip()\n",
    "data['name'] = data['name'].str.replace(r'\\s+', ' ', regex=True)  # Normalize spaces\n",
    "\n",
    "\n",
    "# Step 2: Extract \"fryser\" or \"køleskab\" with their numbers\n",
    "# data['extracted_appliance'] = data['name'].str.extract(r'(fryser\\s*\\d+|køleskab\\s*\\d+)$')\n",
    "\n",
    "data['extracted_appliance'] = data['name'].str.extract(r'(?i)(fryser\\s*\\d+|køleskab\\s*\\d+)\\s*$', expand=False)\n",
    "\n",
    "\n",
    "# Step 3: Update the 'appliances' column where it is NaN\n",
    "data['appliance'] = data['appliance'].fillna(data['extracted_appliance'])\n",
    "\n",
    "data['appliance'] = (data['appliance'].str.lower().str.replace(r'(fryser|køleskab)\\s*(\\d+)', r'\\1 \\2', regex=True).str.strip())\n",
    "\n",
    "\n",
    "# Remove the extracted appliance from the 'name' column\n",
    "#data['name'] = data['name'].str.replace(r'(fryser\\s*\\d+|køleskab\\s*\\d+)$', '', regex=True).str.strip()\n",
    "\n",
    "data['name'] = data['name'].str.replace(r'(?i)(fryser\\s*\\d+|køleskab\\s*\\d+)\\s*$', '', regex=True).str.strip()\n",
    "\n",
    "\n",
    "# Step 5: Drop the temporary column (optional)\n",
    "data = data.drop(columns=['extracted_appliance'])\n",
    "\n",
    "print(data.head(10))\n",
    "\n",
    "\"\"\""
   ]
  },
  {
   "cell_type": "code",
   "execution_count": null,
   "metadata": {},
   "outputs": [],
   "source": [
    "# Clean the 'name' column\n",
    "\n",
    "data['name'] = data['name'].str.strip()\n",
    "data['name'] = data['name'].str.replace(r'\\s+', ' ', regex=True)  # Normalize spaces\n",
    "\n",
    "\n",
    "# Step 2: Extract \"fryser\" or \"køleskab\" with their numbers\n",
    "# data['extracted_appliance'] = data['name'].str.extract(r'(fryser\\s*\\d+|køleskab\\s*\\d+)$')\n",
    "\n",
    "data['extracted_appliance'] = data['name'].str.extract(r'(?i)(fryser\\s*\\d+|køleskab\\s*\\d+)\\s*$', expand=False)\n",
    "\n",
    "# Step 3: Update the 'appliances' column where it is NaN\n",
    "data['appliance'] = data['appliance'].fillna(data['extracted_appliance'])\n",
    "\n",
    "# Step 4: Remove the extracted appliance from the 'name' column\n",
    "#data['name'] = data['name'].str.replace(r'(fryser\\s*\\d+|køleskab\\s*\\d+)$', '', regex=True).str.strip()\n",
    "\n",
    "data['name'] = data['name'].str.replace(r'(?i)(fryser\\s*\\d+|køleskab\\s*\\d+)\\s*$', '', regex=True).str.strip()\n",
    "\n",
    "\n",
    "# Step 5: Drop the temporary column (optional)\n",
    "data = data.drop(columns=['extracted_appliance'])\n",
    "\n",
    "print(data.head(10))"
   ]
  },
  {
   "cell_type": "code",
   "execution_count": null,
   "metadata": {},
   "outputs": [],
   "source": [
    "## group the data by places\n",
    "\n",
    "# List of places\n",
    "places = [\n",
    "    'Bofællesskabet Mårslet', 'Bofællesskabet Vintervej', 'Børnehaven Hygge og Leg', \n",
    "    'Børnehuset Bakken', 'Boernesymfonien', 'CSB Brabrand', 'CSB Egebækken', \n",
    "    'Graven', 'Harlev', 'Jespers Torvekøkken', 'Kantinen Grøndalsvej 2', \n",
    "    'Plejehjemmet Skovvang', 'Plejehjemmet Trøjborg', 'Vikærgården'\n",
    "]\n",
    "\n",
    "# Create a new column 'place' by checking if any place name is in the 'name' column\n",
    "data['place'] = data['name'].apply(lambda x: next((place for place in places if place in x), 'Unknown'))\n",
    "\n",
    "# Step 2: Group by 'place'\n",
    "grouped = data.groupby('place')\n",
    "\n",
    "print(type(grouped))\n",
    "print(grouped.head())\n",
    "print(grouped.size())"
   ]
  },
  {
   "cell_type": "code",
   "execution_count": null,
   "metadata": {},
   "outputs": [],
   "source": [
    "# Filter data for a specific place (e.g., \"Graven\")\n",
    "\n",
    "selected_place = \"Graven\"\n",
    "filtered_df = data[data['place'] == selected_place]\n",
    "\n",
    "\n",
    "# This assumes the kind is the first part of the appliance name\n",
    "filtered_df['appliance_kind'] = filtered_df['appliance'].str.extract(r'([\\wæøåÆØÅ]+)')\n"
   ]
  },
  {
   "cell_type": "code",
   "execution_count": null,
   "metadata": {},
   "outputs": [],
   "source": [
    "# Create separate plots for each kind of appliance\n",
    "for appliance_kind, group in filtered_df.groupby('appliance_kind'):\n",
    "    fig = go.Figure()\n",
    "\n",
    "    # Add a trace for each individual appliance (e.g., fryser1, fryser2)\n",
    "    for appliance, appliance_group in group.groupby('appliance'):\n",
    "        fig.add_trace(go.Scatter(\n",
    "            x=appliance_group['time_index'],\n",
    "            y=appliance_group['temperature'],\n",
    "            mode='lines+markers',\n",
    "            name=appliance  # Use appliance name as the trace name\n",
    "        ))\n",
    "\n",
    "    # Customize the plot\n",
    "    fig.update_layout(\n",
    "        title=f\"Temperature vs Time for {selected_place} ({appliance_kind})\",\n",
    "        xaxis_title=\"Time\",\n",
    "        yaxis_title=\"Temperature (°C)\",\n",
    "        legend_title=\"Appliance Unit\",\n",
    "        template=\"plotly_white\"\n",
    "    )\n",
    "\n",
    "    # Show the plot for this appliance kind\n",
    "    fig.show()"
   ]
  }
 ],
 "metadata": {
  "kernelspec": {
   "display_name": "Python 3",
   "language": "python",
   "name": "python3"
  },
  "language_info": {
   "codemirror_mode": {
    "name": "ipython",
    "version": 3
   },
   "file_extension": ".py",
   "mimetype": "text/x-python",
   "name": "python",
   "nbconvert_exporter": "python",
   "pygments_lexer": "ipython3",
   "version": "3.12.2"
  }
 },
 "nbformat": 4,
 "nbformat_minor": 2
}
