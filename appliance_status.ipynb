{
 "cells": [
  {
   "cell_type": "code",
   "execution_count": null,
   "metadata": {},
   "outputs": [],
   "source": [
    "import pandas as pd\n",
    "import numpy as np\n",
    "import plotly.graph_objects as go\n",
    "from datetime import datetime, timedelta\n"
   ]
  },
  {
   "cell_type": "code",
   "execution_count": null,
   "metadata": {},
   "outputs": [],
   "source": [
    "data = pd.read_parquet(r\"fridge_data_selected_places.parquet\")\n",
    "print(data.head())"
   ]
  },
  {
   "cell_type": "code",
   "execution_count": null,
   "metadata": {},
   "outputs": [],
   "source": [
    "## Use this when you have continous data (recent data)\n",
    "\"\"\"\n",
    "# Ensure 'time_index' is in UTC and timezone-aware\n",
    "today = datetime.now(pytz.UTC)  # Current date and time in UTC\n",
    "last_week = today - timedelta(days=7)  # 7 days ago in UTC\n",
    "\n",
    "# Filter to only include the last 7 days\n",
    "data_last_7_days = data[data.index.get_level_values('time_index') >= last_week]\n",
    "\n",
    "# Verify the filtered data\n",
    "print(f\"Filtered data contains {len(data_last_7_days)} rows.\")\n",
    "print(data_last_7_days.head())\"\n",
    "\"\n",
    "\"\"\""
   ]
  },
  {
   "cell_type": "code",
   "execution_count": null,
   "metadata": {},
   "outputs": [],
   "source": [
    "# Get the latest timestamp in the data\n",
    "max_time = data.index.get_level_values('time_index').max()  # Maximum timestamp in the data\n",
    "\n",
    "# Calculate the start of the last 7 days relative to the data\n",
    "last_7_days_start = max_time - timedelta(days=7)\n",
    "\n",
    "# Filter the data for the last 7 days\n",
    "data = data[data.index.get_level_values('time_index') >= last_7_days_start]\n",
    "\n",
    "# Verify the filtered data\n",
    "print(f\"Filtered data contains {len(data)} rows.\")\n",
    "print(data.head())\n",
    "print(data.shape)"
   ]
  },
  {
   "cell_type": "code",
   "execution_count": null,
   "metadata": {},
   "outputs": [],
   "source": [
    "fig = go.Figure()\n",
    "\n",
    "for (place, appliance), df in data.groupby(level=['place', 'appliance']):\n",
    "    if 'køleskab' in appliance.lower():\n",
    "        fig.add_trace(go.Histogram(histfunc='count', x=df['temperature'], name=f'{place} {appliance}', histnorm='percent'))\n",
    "\n",
    "fig.update_layout(title='Køleskaber', title_x=0.5, xaxis_title='Temperatur', yaxis_title='Procent')\n",
    "fig.show()\n",
    "fig = go.Figure()\n"
   ]
  },
  {
   "cell_type": "code",
   "execution_count": null,
   "metadata": {},
   "outputs": [],
   "source": [
    "for (place, appliance), df in data.groupby(level=['place', 'appliance']):\n",
    "    if 'fryser' in appliance.lower():\n",
    "        fig.add_trace(go.Histogram(histfunc='count', x=df['temperature'], name=f'{place} {appliance}', histnorm='percent'))\n",
    "\n",
    "fig.update_layout(title='Fryser', title_x=0.5, xaxis_title='Temperatur', yaxis_title='Procent')\n",
    "fig.show()"
   ]
  },
  {
   "cell_type": "code",
   "execution_count": null,
   "metadata": {},
   "outputs": [],
   "source": [
    "# Helper function to classify appliances\n",
    "def classify_appliance(df):\n",
    "    # Calculate IQR\n",
    "    Q1 = np.percentile(df['temperature'], 25)\n",
    "    Q3 = np.percentile(df['temperature'], 75)\n",
    "    IQR = Q3 - Q1\n",
    "\n",
    "    # Define acceptable range (remove tailed spread)\n",
    "    lower_bound = Q1 - 1.5 * IQR\n",
    "    upper_bound = Q3 + 1.5 * IQR\n",
    "    df_filtered = df[(df['temperature'] >= lower_bound) & (df['temperature'] <= upper_bound)]\n",
    "\n",
    "    # Calculate spread (IQR) of filtered data\n",
    "    filtered_IQR = np.percentile(df_filtered['temperature'], 75) - np.percentile(df_filtered['temperature'], 25)\n",
    "\n",
    "    # Classify appliance as 'good' or 'bad' based on filtered IQR\n",
    "    classification = \"good\" if filtered_IQR < 2.0 else \"bad\"  # Threshold spread (e.g., 2.0)\n",
    "\n",
    "    return classification, df_filtered\n"
   ]
  },
  {
   "cell_type": "code",
   "execution_count": null,
   "metadata": {},
   "outputs": [],
   "source": [
    "# Analyze and visualize data\n",
    "fig = go.Figure()\n",
    "\n",
    "for (place, appliance), df in data.groupby(level=['place', 'appliance']):\n",
    "    if 'køleskab' in appliance.lower():\n",
    "        # Classify appliance and filter data\n",
    "        classification, df_filtered = classify_appliance(df)\n",
    "\n",
    "        # Add histogram for filtered data\n",
    "        fig.add_trace(go.Histogram(\n",
    "            histfunc='count', \n",
    "            x=df_filtered['temperature'], \n",
    "            name=f'{place} {appliance} ({classification})', \n",
    "            histnorm='percent'\n",
    "        ))\n",
    "\n",
    "# Update layout\n",
    "fig.update_layout(\n",
    "    title='Køleskaber (Filtered and Classified)',\n",
    "    title_x=0.5,\n",
    "    xaxis_title='Temperatur',\n",
    "    yaxis_title='Procent'\n",
    ")\n",
    "fig.show()"
   ]
  },
  {
   "cell_type": "code",
   "execution_count": null,
   "metadata": {},
   "outputs": [],
   "source": [
    "# Analyze and visualize data\n",
    "fig = go.Figure()\n",
    "\n",
    "for (place, appliance), df in data.groupby(level=['place', 'appliance']):\n",
    "    if 'fryser' in appliance.lower():\n",
    "        # Classify appliance and filter data\n",
    "        classification, df_filtered = classify_appliance(df)\n",
    "\n",
    "        # Add histogram for filtered data\n",
    "        fig.add_trace(go.Histogram(\n",
    "            histfunc='count', \n",
    "            x=df_filtered['temperature'], \n",
    "            name=f'{place} {appliance} ({classification})', \n",
    "            histnorm='percent'\n",
    "        ))\n",
    "\n",
    "# Update layout\n",
    "fig.update_layout(\n",
    "    title='Fryser (Filtered and Classified)',\n",
    "    title_x=0.5,\n",
    "    xaxis_title='Temperatur',\n",
    "    yaxis_title='Procent'\n",
    ")\n",
    "fig.show()"
   ]
  },
  {
   "cell_type": "code",
   "execution_count": null,
   "metadata": {},
   "outputs": [],
   "source": [
    "def analyze_place(data, place_name):\n",
    "    \"\"\"\n",
    "    Analyze all appliances in the specified place and classify them as 'good' or 'bad'.\n",
    "\n",
    "    Parameters:\n",
    "    - data: MultiIndex DataFrame with levels ['place', 'appliance', 'time_index'].\n",
    "    - place_name: Name of the place to analyze.\n",
    "\n",
    "    Returns:\n",
    "    - appliances_summary: A dictionary with appliance names as keys and their classification ('good' or 'bad').\n",
    "    \"\"\"\n",
    "    # Dictionary to store the results\n",
    "    appliances_summary = {}\n",
    "    \n",
    "    # Filter the data for the specified place\n",
    "    place_data = data.loc[place_name]\n",
    "    \n",
    "    # Loop through each appliance at the place\n",
    "    for appliance, df in place_data.groupby(level='appliance'):\n",
    "        # Classify the appliance using the earlier logic\n",
    "        classification, _ = classify_appliance(df)\n",
    "        # Store the result in the dictionary\n",
    "        appliances_summary[appliance] = classification\n",
    "    \n",
    "    return appliances_summary\n",
    "\n"
   ]
  },
  {
   "cell_type": "code",
   "execution_count": null,
   "metadata": {},
   "outputs": [],
   "source": [
    "\n",
    "place_name = \"Boernesymfonien\"  # Replace with the name of the place you want to analyze\n",
    "result = analyze_place(data, place_name)\n",
    "\n",
    "# Print the summary for the given place\n",
    "print(f\"Appliances at {place_name}:\")\n",
    "for appliance, classification in result.items():\n",
    "    print(f\"- {appliance}: {classification}\")\n"
   ]
  }
 ],
 "metadata": {
  "kernelspec": {
   "display_name": "Python 3",
   "language": "python",
   "name": "python3"
  },
  "language_info": {
   "codemirror_mode": {
    "name": "ipython",
    "version": 3
   },
   "file_extension": ".py",
   "mimetype": "text/x-python",
   "name": "python",
   "nbconvert_exporter": "python",
   "pygments_lexer": "ipython3",
   "version": "3.12.2"
  }
 },
 "nbformat": 4,
 "nbformat_minor": 2
}
