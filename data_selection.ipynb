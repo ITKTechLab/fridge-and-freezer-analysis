{
 "cells": [
  {
   "cell_type": "code",
   "execution_count": null,
   "metadata": {},
   "outputs": [],
   "source": [
    "import pandas as pd\n",
    "import numpy as np  \n",
    "import matplotlib.pyplot as plt\n",
    "import sqlite3"
   ]
  },
  {
   "cell_type": "code",
   "execution_count": null,
   "metadata": {},
   "outputs": [],
   "source": [
    "data  = pd.read_csv(r\"_etrefrigerator_sensor__202503101046.csv\")\n",
    "\n",
    "print(data.head())\n"
   ]
  },
  {
   "cell_type": "code",
   "execution_count": null,
   "metadata": {},
   "outputs": [],
   "source": [
    "##keeping the data we need\n",
    "\n",
    "data = data[['time_index', 'entity_id', 'temperature', 'humidity', 'appliance', 'department', 'name']]\n",
    "\n",
    "print(data.head())\n",
    "\n",
    "data.shape"
   ]
  },
  {
   "cell_type": "code",
   "execution_count": null,
   "metadata": {},
   "outputs": [],
   "source": [
    "# keep the data beyond 2024-09-01 13:14:22.420 +0200\n",
    "\n",
    "data = data[data['time_index'] > '2024-09-01 13:14:22.420 +0200']\n",
    "\n",
    "print(data.head())\n",
    "data.shape"
   ]
  },
  {
   "cell_type": "code",
   "execution_count": null,
   "metadata": {},
   "outputs": [],
   "source": [
    "# drop \n",
    "data = data[data['name'] != 'Elsys']\n",
    "\n",
    "print(data.head())\n",
    "data.shape"
   ]
  },
  {
   "cell_type": "code",
   "execution_count": null,
   "metadata": {},
   "outputs": [],
   "source": [
    "print(data.isnull().sum())"
   ]
  },
  {
   "cell_type": "code",
   "execution_count": null,
   "metadata": {},
   "outputs": [],
   "source": [
    "print(data.isnull().sum())"
   ]
  },
  {
   "cell_type": "code",
   "execution_count": null,
   "metadata": {},
   "outputs": [],
   "source": [
    "# Convert to pandas datetime object\n",
    "\n",
    "data['time_index'] = pd.to_datetime(data['time_index'], format='%Y-%m-%d %H:%M:%S.%f %z', utc=True)\n",
    "\n",
    "data['date'] = data['time_index'].dt.date\n",
    "data['time'] = data['time_index'].dt.time\n",
    "\n",
    "print(data.head())"
   ]
  },
  {
   "cell_type": "code",
   "execution_count": null,
   "metadata": {},
   "outputs": [],
   "source": [
    "# data = data.drop(columns=['time_index'])\n",
    "\n",
    "data = data[['time_index', 'date', 'time', 'entity_id', 'name', 'temperature',  'humidity', 'appliance', 'department']]\n",
    "\n",
    "print(data.head())"
   ]
  },
  {
   "cell_type": "code",
   "execution_count": null,
   "metadata": {},
   "outputs": [],
   "source": [
    "# save the data as a parquet file (keeps data types)\n",
    "\n",
    "data.to_parquet(r\"fridge_data_cleaned.parquet\")\n",
    "# data.to_csv(r\"D:\\Python\\Fridge_e_cons\\fridge_data_cleaned.csv\", index=False)"
   ]
  }
 ],
 "metadata": {
  "kernelspec": {
   "display_name": "Python 3",
   "language": "python",
   "name": "python3"
  },
  "language_info": {
   "codemirror_mode": {
    "name": "ipython",
    "version": 3
   },
   "file_extension": ".py",
   "mimetype": "text/x-python",
   "name": "python",
   "nbconvert_exporter": "python",
   "pygments_lexer": "ipython3",
   "version": "3.12.2"
  }
 },
 "nbformat": 4,
 "nbformat_minor": 2
}
